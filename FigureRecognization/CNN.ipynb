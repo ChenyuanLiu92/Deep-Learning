{
 "cells": [
  {
   "cell_type": "code",
   "execution_count": 26,
   "metadata": {},
   "outputs": [],
   "source": [
    "# import some packages\n",
    "import torch\n",
    "import torchvision\n",
    "from torch import nn\n",
    "import matplotlib.pyplot as plt\n",
    "from tqdm import tqdm\n",
    "import torch.nn.functional as F\n"
   ]
  },
  {
   "cell_type": "code",
   "execution_count": 27,
   "metadata": {},
   "outputs": [],
   "source": [
    "# hyper parameters definitions\n",
    "'''\n",
    "BATCH_SIZE    批大小\n",
    "LR            学习率\n",
    "EPOCH         迭代次数\n",
    "'''\n",
    "BATCH_SIZE = 50\n",
    "LR = 0.003\n",
    "EPOCH = 10"
   ]
  },
  {
   "cell_type": "code",
   "execution_count": 28,
   "metadata": {},
   "outputs": [],
   "source": [
    "# download the MNIST dataset\n",
    "train_data = torchvision.datasets.MNIST(\n",
    "    root = './data/',\n",
    "    train = True,\n",
    "    transform=torchvision.transforms.ToTensor(),\n",
    ")\n",
    "\n",
    "test_data = torchvision.datasets.MNIST(\n",
    "    root = './data/',\n",
    "    train=False,\n",
    "    transform=torchvision.transforms.ToTensor()\n",
    ")\n"
   ]
  },
  {
   "cell_type": "code",
   "execution_count": 29,
   "metadata": {},
   "outputs": [],
   "source": [
    "train_loader = torch.utils.data.DataLoader(\n",
    "    dataset = train_data,\n",
    "    batch_size = BATCH_SIZE,\n",
    "    shuffle = True,\n",
    ")\n",
    "\n",
    "test_loader = torch.utils.data.DataLoader(\n",
    "    dataset = test_data,\n",
    "    batch_size = BATCH_SIZE,\n",
    "    shuffle = True,\n",
    ")"
   ]
  },
  {
   "cell_type": "code",
   "execution_count": 30,
   "metadata": {},
   "outputs": [],
   "source": [
    "class CNN(nn.Module):\n",
    "    def __init__(self):\n",
    "        super(CNN, self).__init__()\n",
    "        self.conv1 = nn.Conv2d(1, 32, kernel_size=3, padding=1)\n",
    "        self.dropout1 = nn.Dropout2d(0.4)\n",
    "        self.conv2 = nn.Conv2d(32, 64, kernel_size=3, padding=1)\n",
    "        self.dropout2 = nn.Dropout2d(0.3)\n",
    "        self.fc1 = nn.Linear(64 * 7 * 7, 128)\n",
    "        self.fc2 = nn.Linear(128, 10)\n",
    "\n",
    "    def forward(self, x):\n",
    "        x = F.relu(F.max_pool2d(self.conv1(x), 2))\n",
    "        x = self.dropout1(x)\n",
    "        x = F.relu(F.max_pool2d(self.conv2(x), 2))\n",
    "        x = self.dropout2(x)  #\n",
    "        x = x.view(-1, 64 * 7 * 7)  # 展平\n",
    "        x = F.relu(self.fc1(x))\n",
    "        x = self.fc2(x)\n",
    "        return x"
   ]
  },
  {
   "cell_type": "code",
   "execution_count": 31,
   "metadata": {},
   "outputs": [
    {
     "name": "stdout",
     "output_type": "stream",
     "text": [
      "CNN(\n",
      "  (conv1): Conv2d(1, 32, kernel_size=(3, 3), stride=(1, 1), padding=(1, 1))\n",
      "  (dropout1): Dropout2d(p=0.4, inplace=False)\n",
      "  (conv2): Conv2d(32, 64, kernel_size=(3, 3), stride=(1, 1), padding=(1, 1))\n",
      "  (dropout2): Dropout2d(p=0.3, inplace=False)\n",
      "  (fc1): Linear(in_features=3136, out_features=128, bias=True)\n",
      "  (fc2): Linear(in_features=128, out_features=10, bias=True)\n",
      ")\n"
     ]
    }
   ],
   "source": [
    "cnn = CNN()\n",
    "# add optimizer and loss function\n",
    "optimizer = torch.optim.Adam(cnn.parameters(), lr=LR)\n",
    "\n",
    "# using cross entropy as loss function for one-hotted\n",
    "criterion = torch.nn.CrossEntropyLoss()\n",
    "\n",
    "device = torch.device('cuda' if torch.cuda.is_available() else 'cpu')\n",
    "\n",
    "print(cnn)"
   ]
  },
  {
   "cell_type": "code",
   "execution_count": 32,
   "metadata": {},
   "outputs": [],
   "source": [
    "def train(model, train_loader, optimizer, criterion, device):\n",
    "    model.train()  # 将模型设置为训练模式\n",
    "    running_loss = 0.0  # 初始化损失值为0\n",
    "    correct = 0  # 初始化预测正确的样本数为0\n",
    "    total = 0  # 初始化总样本数为0\n",
    "\n",
    "    loop = tqdm(train_loader, total=len(train_loader))  # 使用 tqdm 创建进度条\n",
    "    loop.set_description()\n",
    "\n",
    "    for i, (images, labels) in enumerate(loop):  # 遍历训练数据集，并使用 enumerate 获取批次索引\n",
    "        images, labels = images.to(device), labels.to(device)  # 将输入数据和标签移动到指定的设备上（例如GPU）\n",
    "\n",
    "        optimizer.zero_grad()  # 清零梯度，以防止梯度累积\n",
    "        outputs = model(images)  # 前向传播：通过模型获取预测输出\n",
    "        loss = criterion(outputs, labels)  # 计算损失值\n",
    "        loss.backward()  # 反向传播：计算梯度\n",
    "        optimizer.step()  # 更新模型参数\n",
    "\n",
    "        # 计算损失和准确率\n",
    "        running_loss += loss.item()  # 累加损失值\n",
    "        _, predicted = outputs.max(1)  # 获取预测结果中的最大值及其对应的索引\n",
    "        total += labels.size(0)  # 累加样本数量\n",
    "        correct += predicted.eq(labels).sum().item()  # 累加预测正确的样本数量\n",
    "\n",
    "        # 更新进度条显示\n",
    "        loop.set_description(f'Training Process [{i+1}/{len(train_loader)}]')\n",
    "        loop.set_postfix(loss=running_loss/(i+1), acc=correct/total)\n",
    "\n",
    "    # 计算平均损失和准确率\n",
    "    train_loss = running_loss / len(train_loader)  # 计算平均损失\n",
    "    train_acc = correct / total  # 计算平均准确率\n",
    "\n",
    "    return train_loss, train_acc\n",
    "\n",
    "def test(model, test_loader, criterion, device):\n",
    "    model.eval()  # 将模型设置为评估模式\n",
    "    running_loss = 0.0  # 初始化损失值为0\n",
    "    correct = 0  # 初始化预测正确的样本数为0\n",
    "    total = 0  # 初始化总样本数为0\n",
    "\n",
    "    loop = tqdm(test_loader, total=len(test_loader))  # 使用 tqdm 创建进度条\n",
    "    loop.set_description(f'Testing Starting ...')\n",
    "\n",
    "    with torch.no_grad():  # 在评估过程中，不需要计算梯度\n",
    "        for i, (images, labels) in enumerate(loop):  # 遍历测试数据集，并使用 enumerate 获取批次索引\n",
    "            images, labels = images.to(device), labels.to(device)  # 将输入数据和标签移动到指定的设备上（例如GPU）\n",
    "\n",
    "            outputs = model(images)  # 前向传播：通过模型获取预测输出\n",
    "            loss = criterion(outputs, labels)  # 计算损失值\n",
    "\n",
    "                # 计算损失和准确率\n",
    "            running_loss += loss.item()  # 累加损失值\n",
    "            _, predicted = outputs.max(1)  # 获取预测结果中的最大值及其对应的索引\n",
    "            total += labels.size(0)  # 累加样本数量\n",
    "            correct += predicted.eq(labels).sum().item()  # 累加预测正确的样本数量\n",
    "\n",
    "                # 更新进度条显示\n",
    "            loop.set_description(f'Testing Process [{i+1}/{len(test_loader)}]')\n",
    "            loop.set_postfix(loss=running_loss/(i+1), acc=correct/total)\n",
    "\n",
    "        # 计算平均损失和准确率\n",
    "        test_loss = running_loss / len(test_loader)  # 计算平均损失\n",
    "        test_acc = correct / total  # 计算平均准确率\n",
    "\n",
    "        return test_loss, test_acc"
   ]
  },
  {
   "cell_type": "code",
   "execution_count": 33,
   "metadata": {},
   "outputs": [],
   "source": [
    "def run(EPOCHS, model, train_loader, test_loader, optimizer, criterion, device):\n",
    "    num_epochs = EPOCHS  # 设置训练 epoch 数\n",
    "    test_loss_v = []\n",
    "    test_acc_v = []\n",
    "\n",
    "    for epoch in range(1, num_epochs + 1):\n",
    "        print(f'Epoch: {epoch}')\n",
    "        print('===>Train Start')\n",
    "        train_loss, train_acc = train(model, train_loader, optimizer, criterion, device)\n",
    "        print('===>Test Start')\n",
    "        test_loss, test_acc = test(model, test_loader, criterion, device)\n",
    "        test_loss_v.append(test_loss)\n",
    "        test_acc_v.append(test_acc)\n",
    "\n",
    "    # 可视化训练损失和准确率\n",
    "    plt.figure(figsize=(12, 5))\n",
    "\n",
    "    plt.subplot(1, 2, 1)\n",
    "    plt.plot(range(1, num_epochs + 1), test_loss_v, label='Test Loss')\n",
    "    plt.xlabel('Epoch')\n",
    "    plt.ylabel('Loss')\n",
    "    plt.title('Testing Loss')\n",
    "    plt.legend()\n",
    "\n",
    "    plt.subplot(1, 2, 2)\n",
    "    plt.plot(range(1, num_epochs + 1), test_acc_v, label='Test Accuracy')\n",
    "    plt.xlabel('Epoch')\n",
    "    plt.ylabel('Accuracy')\n",
    "    plt.title('Testing Accuracy')\n",
    "    plt.legend()\n",
    "\n",
    "    plt.tight_layout()\n",
    "    plt.show()\n"
   ]
  },
  {
   "cell_type": "code",
   "execution_count": 34,
   "metadata": {},
   "outputs": [
    {
     "name": "stdout",
     "output_type": "stream",
     "text": [
      "Epoch: 1\n",
      "===>Train Start\n"
     ]
    },
    {
     "name": "stderr",
     "output_type": "stream",
     "text": [
      "Training Process [1200/1200]: 100%|██████████| 1200/1200 [00:31<00:00, 37.57it/s, acc=0.946, loss=0.174]\n"
     ]
    },
    {
     "name": "stdout",
     "output_type": "stream",
     "text": [
      "===>Test Start\n"
     ]
    },
    {
     "name": "stderr",
     "output_type": "stream",
     "text": [
      "Testing Process [200/200]: 100%|██████████| 200/200 [00:03<00:00, 63.73it/s, acc=0.986, loss=0.0474]\n"
     ]
    },
    {
     "name": "stdout",
     "output_type": "stream",
     "text": [
      "Epoch: 2\n",
      "===>Train Start\n"
     ]
    },
    {
     "name": "stderr",
     "output_type": "stream",
     "text": [
      "Training Process [1200/1200]: 100%|██████████| 1200/1200 [00:28<00:00, 41.50it/s, acc=0.978, loss=0.0734]\n"
     ]
    },
    {
     "name": "stdout",
     "output_type": "stream",
     "text": [
      "===>Test Start\n"
     ]
    },
    {
     "name": "stderr",
     "output_type": "stream",
     "text": [
      "Testing Process [200/200]: 100%|██████████| 200/200 [00:02<00:00, 68.41it/s, acc=0.987, loss=0.0391]\n"
     ]
    },
    {
     "name": "stdout",
     "output_type": "stream",
     "text": [
      "Epoch: 3\n",
      "===>Train Start\n"
     ]
    },
    {
     "name": "stderr",
     "output_type": "stream",
     "text": [
      "Training Process [1200/1200]: 100%|██████████| 1200/1200 [00:26<00:00, 44.91it/s, acc=0.982, loss=0.0599]\n"
     ]
    },
    {
     "name": "stdout",
     "output_type": "stream",
     "text": [
      "===>Test Start\n"
     ]
    },
    {
     "name": "stderr",
     "output_type": "stream",
     "text": [
      "Testing Process [200/200]: 100%|██████████| 200/200 [00:02<00:00, 74.65it/s, acc=0.988, loss=0.0361]\n"
     ]
    },
    {
     "name": "stdout",
     "output_type": "stream",
     "text": [
      "Epoch: 4\n",
      "===>Train Start\n"
     ]
    },
    {
     "name": "stderr",
     "output_type": "stream",
     "text": [
      "Training Process [1200/1200]: 100%|██████████| 1200/1200 [00:25<00:00, 46.52it/s, acc=0.984, loss=0.0513]\n"
     ]
    },
    {
     "name": "stdout",
     "output_type": "stream",
     "text": [
      "===>Test Start\n"
     ]
    },
    {
     "name": "stderr",
     "output_type": "stream",
     "text": [
      "Testing Process [200/200]: 100%|██████████| 200/200 [00:02<00:00, 79.36it/s, acc=0.99, loss=0.0359] \n"
     ]
    },
    {
     "name": "stdout",
     "output_type": "stream",
     "text": [
      "Epoch: 5\n",
      "===>Train Start\n"
     ]
    },
    {
     "name": "stderr",
     "output_type": "stream",
     "text": [
      "Training Process [1200/1200]: 100%|██████████| 1200/1200 [00:27<00:00, 43.18it/s, acc=0.985, loss=0.0491]\n"
     ]
    },
    {
     "name": "stdout",
     "output_type": "stream",
     "text": [
      "===>Test Start\n"
     ]
    },
    {
     "name": "stderr",
     "output_type": "stream",
     "text": [
      "Testing Process [200/200]: 100%|██████████| 200/200 [00:03<00:00, 58.48it/s, acc=0.987, loss=0.0416]\n"
     ]
    },
    {
     "name": "stdout",
     "output_type": "stream",
     "text": [
      "Epoch: 6\n",
      "===>Train Start\n"
     ]
    },
    {
     "name": "stderr",
     "output_type": "stream",
     "text": [
      "Training Process [1200/1200]: 100%|██████████| 1200/1200 [00:29<00:00, 40.85it/s, acc=0.986, loss=0.0448]\n"
     ]
    },
    {
     "name": "stdout",
     "output_type": "stream",
     "text": [
      "===>Test Start\n"
     ]
    },
    {
     "name": "stderr",
     "output_type": "stream",
     "text": [
      "Testing Process [200/200]: 100%|██████████| 200/200 [00:02<00:00, 70.32it/s, acc=0.988, loss=0.0376]\n"
     ]
    },
    {
     "name": "stdout",
     "output_type": "stream",
     "text": [
      "Epoch: 7\n",
      "===>Train Start\n"
     ]
    },
    {
     "name": "stderr",
     "output_type": "stream",
     "text": [
      "Training Process [1200/1200]: 100%|██████████| 1200/1200 [00:30<00:00, 39.81it/s, acc=0.987, loss=0.0423]\n"
     ]
    },
    {
     "name": "stdout",
     "output_type": "stream",
     "text": [
      "===>Test Start\n"
     ]
    },
    {
     "name": "stderr",
     "output_type": "stream",
     "text": [
      "Testing Process [200/200]: 100%|██████████| 200/200 [00:02<00:00, 70.24it/s, acc=0.99, loss=0.0344] \n"
     ]
    },
    {
     "name": "stdout",
     "output_type": "stream",
     "text": [
      "Epoch: 8\n",
      "===>Train Start\n"
     ]
    },
    {
     "name": "stderr",
     "output_type": "stream",
     "text": [
      "Training Process [1200/1200]: 100%|██████████| 1200/1200 [00:28<00:00, 42.06it/s, acc=0.987, loss=0.0408]\n"
     ]
    },
    {
     "name": "stdout",
     "output_type": "stream",
     "text": [
      "===>Test Start\n"
     ]
    },
    {
     "name": "stderr",
     "output_type": "stream",
     "text": [
      "Testing Process [200/200]: 100%|██████████| 200/200 [00:02<00:00, 74.63it/s, acc=0.99, loss=0.0373] \n"
     ]
    },
    {
     "name": "stdout",
     "output_type": "stream",
     "text": [
      "Epoch: 9\n",
      "===>Train Start\n"
     ]
    },
    {
     "name": "stderr",
     "output_type": "stream",
     "text": [
      "Training Process [1200/1200]: 100%|██████████| 1200/1200 [00:33<00:00, 35.73it/s, acc=0.988, loss=0.0393]\n"
     ]
    },
    {
     "name": "stdout",
     "output_type": "stream",
     "text": [
      "===>Test Start\n"
     ]
    },
    {
     "name": "stderr",
     "output_type": "stream",
     "text": [
      "Testing Process [200/200]: 100%|██████████| 200/200 [00:02<00:00, 70.47it/s, acc=0.99, loss=0.0345] \n"
     ]
    },
    {
     "name": "stdout",
     "output_type": "stream",
     "text": [
      "Epoch: 10\n",
      "===>Train Start\n"
     ]
    },
    {
     "name": "stderr",
     "output_type": "stream",
     "text": [
      "Training Process [1200/1200]: 100%|██████████| 1200/1200 [00:32<00:00, 36.73it/s, acc=0.989, loss=0.036] \n"
     ]
    },
    {
     "name": "stdout",
     "output_type": "stream",
     "text": [
      "===>Test Start\n"
     ]
    },
    {
     "name": "stderr",
     "output_type": "stream",
     "text": [
      "Testing Process [200/200]: 100%|██████████| 200/200 [00:02<00:00, 72.73it/s, acc=0.99, loss=0.0383] \n"
     ]
    },
    {
     "data": {
      "image/png": "[encoded data removed]",
      "text/plain": [
       "<Figure size 1200x500 with 2 Axes>"
      ]
     },
     "metadata": {},
     "output_type": "display_data"
    }
   ],
   "source": [
    "run(EPOCH, cnn, train_loader, test_loader, optimizer, criterion, device)"
   ]
  },
  {
   "cell_type": "code",
   "execution_count": 35,
   "metadata": {},
   "outputs": [
    {
     "name": "stdout",
     "output_type": "stream",
     "text": [
      "----------------------------------------------------------------\n",
      "        Layer (type)               Output Shape         Param #\n",
      "================================================================\n",
      "            Conv2d-1           [-1, 32, 28, 28]             320\n",
      "         Dropout2d-2           [-1, 32, 14, 14]               0\n",
      "            Conv2d-3           [-1, 64, 14, 14]          18,496\n",
      "         Dropout2d-4             [-1, 64, 7, 7]               0\n",
      "            Linear-5                  [-1, 128]         401,536\n",
      "            Linear-6                   [-1, 10]           1,290\n",
      "================================================================\n",
      "Total params: 421,642\n",
      "Trainable params: 421,642\n",
      "Non-trainable params: 0\n",
      "----------------------------------------------------------------\n",
      "Input size (MB): 0.00\n",
      "Forward/backward pass size (MB): 0.36\n",
      "Params size (MB): 1.61\n",
      "Estimated Total Size (MB): 1.97\n",
      "----------------------------------------------------------------\n"
     ]
    }
   ],
   "source": [
    "from torchsummary import summary\n",
    "summary(cnn, (1, 28, 28))"
   ]
  },
  {
   "cell_type": "code",
   "execution_count": 36,
   "metadata": {},
   "outputs": [],
   "source": [
    "torch.save(cnn, 'cnn_v2.1.pth')"
   ]
  }
 ],
 "metadata": {
  "kernelspec": {
   "display_name": "Python 3",
   "language": "python",
   "name": "python3"
  },
  "language_info": {
   "codemirror_mode": {
    "name": "ipython",
    "version": 3
   },
   "file_extension": ".py",
   "mimetype": "text/x-python",
   "name": "python",
   "nbconvert_exporter": "python",
   "pygments_lexer": "ipython3",
   "version": "3.11.5"
  }
 },
 "nbformat": 4,
 "nbformat_minor": 2
}
